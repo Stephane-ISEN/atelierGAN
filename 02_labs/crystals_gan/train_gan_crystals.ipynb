{
 "cells": [
  {
   "cell_type": "markdown",
   "id": "3425e52f",
   "metadata": {},
   "source": [
    "### pré-traitement GAN pour fichiers CIF\n",
    "\n",
    "- Étape 0 : Input Fichiers .cif stockés dans un dossier local (cif_supraconductors/)"
   ]
  },
  {
   "cell_type": "code",
   "execution_count": null,
   "id": "6602e93f",
   "metadata": {},
   "outputs": [],
   "source": []
  }
 ],
 "metadata": {
  "kernelspec": {
   "display_name": "Python 3",
   "language": "python",
   "name": "python3"
  },
  "language_info": {
   "name": "python",
   "version": "3.8.0"
  }
 },
 "nbformat": 4,
 "nbformat_minor": 5
}
