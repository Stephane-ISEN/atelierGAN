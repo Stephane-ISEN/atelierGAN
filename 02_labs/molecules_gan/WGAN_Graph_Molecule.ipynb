{
  "cells": [
    {
      "cell_type": "code",
      "execution_count": 12,
      "metadata": {},
      "outputs": [
        {
          "name": "stdout",
          "output_type": "stream",
          "text": [
            "Collecting rdkit\n",
            "  Downloading https://files.pythonhosted.org/packages/c9/4c/ec495b14092c8a26eadffbcf1f0874dfb6660b78fbf244925c2b3d23c57c/rdkit-2024.3.5-cp38-cp38-win_amd64.whl (21.8MB)\n",
            "Requirement already satisfied: numpy in c:\\users\\kered\\appdata\\roaming\\python\\python38\\site-packages (from rdkit) (1.22.0)\n",
            "Requirement already satisfied: Pillow in c:\\users\\kered\\appdata\\local\\programs\\python\\python38\\lib\\site-packages (from rdkit) (8.3.2)\n",
            "Installing collected packages: rdkit\n",
            "Successfully installed rdkit-2024.3.5\n",
            "Note: you may need to restart the kernel to use updated packages.\n"
          ]
        },
        {
          "name": "stderr",
          "output_type": "stream",
          "text": [
            "WARNING: You are using pip version 19.2.3, however version 25.0.1 is available.\n",
            "You should consider upgrading via the 'python -m pip install --upgrade pip' command.\n"
          ]
        }
      ],
      "source": [
        "pip install rdkit"
      ]
    },
    {
      "cell_type": "code",
      "execution_count": 14,
      "metadata": {},
      "outputs": [
        {
          "name": "stdout",
          "output_type": "stream",
          "text": [
            "Requirement already satisfied: Pillow in c:\\users\\kered\\appdata\\local\\programs\\python\\python38\\lib\\site-packages (8.3.2)\n",
            "Note: you may need to restart the kernel to use updated packages.\n"
          ]
        },
        {
          "name": "stderr",
          "output_type": "stream",
          "text": [
            "WARNING: You are using pip version 19.2.3, however version 25.0.1 is available.\n",
            "You should consider upgrading via the 'python -m pip install --upgrade pip' command.\n"
          ]
        }
      ],
      "source": [
        "pip install Pillow"
      ]
    },
    {
      "cell_type": "code",
      "execution_count": 15,
      "metadata": {
        "id": "W7Vz_QbnGg0C"
      },
      "outputs": [
        {
          "ename": "RuntimeError",
          "evalue": "module compiled against API version 0x10 but this version of numpy is 0xf . Check the section C-API incompatibility at the Troubleshooting ImportError section at https://numpy.org/devdocs/user/troubleshooting-importerror.html#c-api-incompatibility for indications on how to solve this problem .",
          "output_type": "error",
          "traceback": [
            "\u001b[1;31m---------------------------------------------------------------------------\u001b[0m",
            "\u001b[1;31mRuntimeError\u001b[0m                              Traceback (most recent call last)",
            "\u001b[1;31mRuntimeError\u001b[0m: module compiled against API version 0x10 but this version of numpy is 0xf . Check the section C-API incompatibility at the Troubleshooting ImportError section at https://numpy.org/devdocs/user/troubleshooting-importerror.html#c-api-incompatibility for indications on how to solve this problem ."
          ]
        },
        {
          "ename": "RuntimeError",
          "evalue": "module compiled against API version 0x10 but this version of numpy is 0xf . Check the section C-API incompatibility at the Troubleshooting ImportError section at https://numpy.org/devdocs/user/troubleshooting-importerror.html#c-api-incompatibility for indications on how to solve this problem .",
          "output_type": "error",
          "traceback": [
            "\u001b[1;31m---------------------------------------------------------------------------\u001b[0m",
            "\u001b[1;31mRuntimeError\u001b[0m                              Traceback (most recent call last)",
            "\u001b[1;31mRuntimeError\u001b[0m: module compiled against API version 0x10 but this version of numpy is 0xf . Check the section C-API incompatibility at the Troubleshooting ImportError section at https://numpy.org/devdocs/user/troubleshooting-importerror.html#c-api-incompatibility for indications on how to solve this problem ."
          ]
        },
        {
          "ename": "ImportError",
          "evalue": "numpy.core._multiarray_umath failed to import",
          "output_type": "error",
          "traceback": [
            "\u001b[1;31m---------------------------------------------------------------------------\u001b[0m",
            "\u001b[1;31mImportError\u001b[0m                               Traceback (most recent call last)",
            "\u001b[1;31mImportError\u001b[0m: numpy.core._multiarray_umath failed to import"
          ]
        },
        {
          "ename": "RuntimeError",
          "evalue": "module compiled against API version 0x10 but this version of numpy is 0xf . Check the section C-API incompatibility at the Troubleshooting ImportError section at https://numpy.org/devdocs/user/troubleshooting-importerror.html#c-api-incompatibility for indications on how to solve this problem .",
          "output_type": "error",
          "traceback": [
            "\u001b[1;31m---------------------------------------------------------------------------\u001b[0m",
            "\u001b[1;31mRuntimeError\u001b[0m                              Traceback (most recent call last)",
            "\u001b[1;31mRuntimeError\u001b[0m: module compiled against API version 0x10 but this version of numpy is 0xf . Check the section C-API incompatibility at the Troubleshooting ImportError section at https://numpy.org/devdocs/user/troubleshooting-importerror.html#c-api-incompatibility for indications on how to solve this problem ."
          ]
        },
        {
          "ename": "RuntimeError",
          "evalue": "module compiled against API version 0x10 but this version of numpy is 0xf . Check the section C-API incompatibility at the Troubleshooting ImportError section at https://numpy.org/devdocs/user/troubleshooting-importerror.html#c-api-incompatibility for indications on how to solve this problem .",
          "output_type": "error",
          "traceback": [
            "\u001b[1;31m---------------------------------------------------------------------------\u001b[0m",
            "\u001b[1;31mRuntimeError\u001b[0m                              Traceback (most recent call last)",
            "\u001b[1;31mRuntimeError\u001b[0m: module compiled against API version 0x10 but this version of numpy is 0xf . Check the section C-API incompatibility at the Troubleshooting ImportError section at https://numpy.org/devdocs/user/troubleshooting-importerror.html#c-api-incompatibility for indications on how to solve this problem ."
          ]
        },
        {
          "ename": "RuntimeError",
          "evalue": "module compiled against API version 0x10 but this version of numpy is 0xf . Check the section C-API incompatibility at the Troubleshooting ImportError section at https://numpy.org/devdocs/user/troubleshooting-importerror.html#c-api-incompatibility for indications on how to solve this problem .",
          "output_type": "error",
          "traceback": [
            "\u001b[1;31m---------------------------------------------------------------------------\u001b[0m",
            "\u001b[1;31mRuntimeError\u001b[0m                              Traceback (most recent call last)",
            "\u001b[1;31mRuntimeError\u001b[0m: module compiled against API version 0x10 but this version of numpy is 0xf . Check the section C-API incompatibility at the Troubleshooting ImportError section at https://numpy.org/devdocs/user/troubleshooting-importerror.html#c-api-incompatibility for indications on how to solve this problem ."
          ]
        },
        {
          "ename": "RuntimeError",
          "evalue": "module compiled against API version 0x10 but this version of numpy is 0xf . Check the section C-API incompatibility at the Troubleshooting ImportError section at https://numpy.org/devdocs/user/troubleshooting-importerror.html#c-api-incompatibility for indications on how to solve this problem .",
          "output_type": "error",
          "traceback": [
            "\u001b[1;31m---------------------------------------------------------------------------\u001b[0m",
            "\u001b[1;31mRuntimeError\u001b[0m                              Traceback (most recent call last)",
            "\u001b[1;31mRuntimeError\u001b[0m: module compiled against API version 0x10 but this version of numpy is 0xf . Check the section C-API incompatibility at the Troubleshooting ImportError section at https://numpy.org/devdocs/user/troubleshooting-importerror.html#c-api-incompatibility for indications on how to solve this problem ."
          ]
        }
      ],
      "source": [
        "# Importing necessary libraries\n",
        "from rdkit import Chem, RDLogger\n",
        "from rdkit.Chem.Draw import IPythonConsole, MolsToGridImage\n",
        "import numpy as np\n",
        "import tensorflow as tf\n",
        "from tensorflow import keras"
      ]
    },
    {
      "cell_type": "markdown",
      "metadata": {
        "id": "KxXsymzFGoiG"
      },
      "source": []
    },
    {
      "cell_type": "code",
      "execution_count": 16,
      "metadata": {
        "id": "kI5795zZGo5h"
      },
      "outputs": [],
      "source": [
        "# Disabling RDKit logger\n",
        "RDLogger.DisableLog(\"rdApp.*\")"
      ]
    },
    {
      "cell_type": "code",
      "execution_count": 19,
      "metadata": {
        "id": "MIRiKIySGrLW"
      },
      "outputs": [],
      "source": [
        "# Path to the CSV file containing SMILES data\n",
        "csv_path = r\"C:\\Users\\Kered\\GAN_Mastery\\02_labs\\molecules_gan\\dataset\\qm9.csv\"\n"
      ]
    },
    {
      "cell_type": "code",
      "execution_count": 20,
      "metadata": {
        "id": "ml1FVkJPG0mZ"
      },
      "outputs": [],
      "source": [
        "# Reading SMILES data from the CSV file\n",
        "data = []\n",
        "with open(csv_path, \"r\") as f:\n",
        "    for line in f.readlines()[1:]:\n",
        "        data.append(line.split(\",\")[1])"
      ]
    },
    {
      "cell_type": "code",
      "execution_count": 21,
      "metadata": {
        "colab": {
          "base_uri": "https://localhost:8080/"
        },
        "id": "pds-CZjPMXYW",
        "outputId": "9cf13f2b-ad98-41f5-f212-367c8b40a4e2"
      },
      "outputs": [
        {
          "data": {
            "text/plain": [
              "['C', 'N', 'O', 'C#C', 'C#N', 'C=O', 'CC', 'CO', 'CC#C', 'CC#N']"
            ]
          },
          "execution_count": 21,
          "metadata": {},
          "output_type": "execute_result"
        }
      ],
      "source": [
        "data[:10]"
      ]
    },
    {
      "cell_type": "code",
      "execution_count": 23,
      "metadata": {
        "colab": {
          "base_uri": "https://localhost:8080/"
        },
        "id": "CplPROjsHFow",
        "outputId": "7ab2d4b4-8f7e-4997-a407-ae41d2c5a8c2"
      },
      "outputs": [
        {
          "name": "stdout",
          "output_type": "stream",
          "text": [
            "SMILES: CC1CC1O\n"
          ]
        }
      ],
      "source": [
        "# Selecting a SMILES string from the data\n",
        "smiles = data[100]\n",
        "print(\"SMILES:\", smiles)"
      ]
    },
    {
      "cell_type": "code",
      "execution_count": 24,
      "metadata": {
        "colab": {
          "base_uri": "https://localhost:8080/",
          "height": 184
        },
        "id": "d-f7shbtHTOT",
        "outputId": "e0da8bf3-1204-42b0-8e4f-00510a8ebaa6"
      },
      "outputs": [
        {
          "name": "stdout",
          "output_type": "stream",
          "text": [
            "Num heavy atoms: 5\n"
          ]
        },
        {
          "data": {
            "image/png": "[encoded data removed]",
            "text/plain": [
              "<rdkit.Chem.rdchem.Mol at 0x16368ed3750>"
            ]
          },
          "execution_count": 24,
          "metadata": {},
          "output_type": "execute_result"
        }
      ],
      "source": [
        "# Converting the SMILES string to an RDKit molecule object\n",
        "molecule = Chem.MolFromSmiles(smiles)\n",
        "print(\"Num heavy atoms:\", molecule.GetNumHeavyAtoms())\n",
        "molecule"
      ]
    },
    {
      "cell_type": "code",
      "execution_count": 25,
      "metadata": {
        "id": "C_Z11MTFIY0J"
      },
      "outputs": [],
      "source": [
        "# Mapping atom symbols to integers and vice versa\n",
        "atom_mapping = {\n",
        "    \"C\": 0,\n",
        "    0: \"C\",\n",
        "    \"N\": 1,\n",
        "    1: \"N\",\n",
        "    \"O\": 2,\n",
        "    2: \"O\",\n",
        "    \"F\": 3,\n",
        "    3: \"F\",\n",
        "}"
      ]
    },
    {
      "cell_type": "code",
      "execution_count": 26,
      "metadata": {
        "id": "ukE_RACJIdgy"
      },
      "outputs": [],
      "source": [
        "# Mapping bond types to integers and vice versa\n",
        "bond_mapping = {\n",
        "    \"SINGLE\": 0,\n",
        "    0: Chem.BondType.SINGLE,\n",
        "    \"DOUBLE\": 1,\n",
        "    1: Chem.BondType.DOUBLE,\n",
        "    \"TRIPLE\": 2,\n",
        "    2: Chem.BondType.TRIPLE,\n",
        "    \"AROMATIC\": 3,\n",
        "    3: Chem.BondType.AROMATIC,\n",
        "}"
      ]
    },
    {
      "cell_type": "markdown",
      "metadata": {
        "id": "quf856QtIgrh"
      },
      "source": [
        "# Graph generation"
      ]
    },
    {
      "cell_type": "code",
      "execution_count": 27,
      "metadata": {
        "id": "G891IeVIIjdj"
      },
      "outputs": [],
      "source": [
        "# Constants for graph generation\n",
        "NUM_ATOMS = 9\n",
        "ATOM_DIM = 4 + 1\n",
        "BOND_DIM = 4 + 1\n",
        "LATENT_DIM = 64"
      ]
    },
    {
      "cell_type": "markdown",
      "metadata": {
        "id": "nVGY9VISqAFu"
      },
      "source": [
        "* Encoding"
      ]
    },
    {
      "cell_type": "code",
      "execution_count": 28,
      "metadata": {
        "id": "mOA1A__cIpc4"
      },
      "outputs": [],
      "source": [
        "# Function to convert a SMILES string to a graph representation\n",
        "def smiles_to_graph(smiles):\n",
        "    # Converting SMILES to an RDKit molecule object\n",
        "    molecule = Chem.MolFromSmiles(smiles)\n",
        "\n",
        "    # Initializing adjacency and features matrices\n",
        "    adjacency = np.zeros((BOND_DIM, NUM_ATOMS, NUM_ATOMS), \"float32\")\n",
        "    features = np.zeros((NUM_ATOMS, ATOM_DIM), \"float32\")\n",
        "\n",
        "    # Processing atoms and bonds in the molecule\n",
        "    for atom in molecule.GetAtoms():\n",
        "        i = atom.GetIdx()\n",
        "        atom_type = atom_mapping[atom.GetSymbol()]\n",
        "        features[i] = np.eye(ATOM_DIM)[atom_type]\n",
        "        for neighbor in atom.GetNeighbors():\n",
        "            j = neighbor.GetIdx()\n",
        "            bond = molecule.GetBondBetweenAtoms(i, j)\n",
        "            bond_type_idx = bond_mapping[bond.GetBondType().name]\n",
        "            adjacency[bond_type_idx, [i, j], [j, i]] = 1\n",
        "\n",
        "    # Handling disconnected atoms and empty features\n",
        "    adjacency[-1, np.sum(adjacency, axis=0) == 0] = 1\n",
        "    features[np.where(np.sum(features, axis=1) == 0)[0], -1] = 1\n",
        "\n",
        "    return adjacency, features\n"
      ]
    },
    {
      "cell_type": "markdown",
      "metadata": {
        "id": "zFvgdJLEp5sq"
      },
      "source": [
        "# Conversion\n",
        "* Decoding"
      ]
    },
    {
      "cell_type": "code",
      "execution_count": 29,
      "metadata": {
        "id": "KRRIbBkmp7WB"
      },
      "outputs": [],
      "source": [
        "#Function to convert a graph representation to an RDKit molecule object\n",
        "def graph_to_molecule(graph):\n",
        "    adjacency, features = graph\n",
        "    molecule = Chem.RWMol()\n",
        "\n",
        "    # Selecting atoms and bonds for the final molecule\n",
        "    keep_idx = np.where(\n",
        "        (np.argmax(features, axis=1) != ATOM_DIM - 1)\n",
        "        & (np.sum(adjacency[:-1], axis=(0, 1)) != 0)\n",
        "    )[0]\n",
        "    features = features[keep_idx]\n",
        "    adjacency = adjacency[:, keep_idx, :][:, :, keep_idx]\n",
        "\n",
        "    # Adding atoms to the molecule\n",
        "    for atom_type_idx in np.argmax(features, axis=1):\n",
        "        atom = Chem.Atom(atom_mapping[atom_type_idx])\n",
        "        _ = molecule.AddAtom(atom)\n",
        "\n",
        "    # Adding bonds to the molecule\n",
        "    (bonds_ij, atoms_i, atoms_j) = np.where(np.triu(adjacency) == 1)\n",
        "    for (bond_ij, atom_i, atom_j) in zip(bonds_ij, atoms_i, atoms_j):\n",
        "        if atom_i == atom_j or bond_ij == BOND_DIM - 1:\n",
        "            continue\n",
        "        bond_type = bond_mapping[bond_ij]\n",
        "        molecule.AddBond(int(atom_i), int(atom_j), bond_type)\n",
        "\n",
        "    # Checking and sanitizing the molecule\n",
        "    flag = Chem.SanitizeMol(molecule, catchErrors=True)\n",
        "    if flag != Chem.SanitizeFlags.SANITIZE_NONE:\n",
        "        return None\n",
        "\n",
        "    return molecule\n"
      ]
    },
    {
      "cell_type": "code",
      "execution_count": 30,
      "metadata": {
        "colab": {
          "base_uri": "https://localhost:8080/",
          "height": 167
        },
        "id": "__pB-besqFMi",
        "outputId": "35352975-f28e-4374-9c27-9b9e12477255"
      },
      "outputs": [
        {
          "data": {
            "image/png": "[encoded data removed]",
            "text/plain": [
              "<rdkit.Chem.rdchem.RWMol at 0x1636bffa6f0>"
            ]
          },
          "execution_count": 30,
          "metadata": {},
          "output_type": "execute_result"
        }
      ],
      "source": [
        "# Generating graph representation for a given SMILES string\n",
        "graph_to_molecule(smiles_to_graph(smiles))\n"
      ]
    },
    {
      "cell_type": "code",
      "execution_count": 31,
      "metadata": {
        "colab": {
          "base_uri": "https://localhost:8080/"
        },
        "id": "NWMtKgB3qa5i",
        "outputId": "1c2a054b-ffd6-481d-9944-fa2b425ae10b"
      },
      "outputs": [
        {
          "name": "stdout",
          "output_type": "stream",
          "text": [
            "adjacency_tensor.shape = (13389, 5, 9, 9)\n",
            "feature_tensor.shape = (13389, 9, 5)\n"
          ]
        }
      ],
      "source": [
        "#Converting a subset of SMILES data to graph tensors\n",
        "adjacency_tensor, feature_tensor = [], []\n",
        "for smiles in data[::10]:\n",
        "    adjacency, features = smiles_to_graph(smiles)\n",
        "    adjacency_tensor.append(adjacency)\n",
        "    feature_tensor.append(features)\n",
        "adjacency_tensor = np.array(adjacency_tensor)\n",
        "feature_tensor = np.array(feature_tensor)\n",
        "print(\"adjacency_tensor.shape =\", adjacency_tensor.shape)\n",
        "print(\"feature_tensor.shape =\", feature_tensor.shape)"
      ]
    },
    {
      "cell_type": "markdown",
      "metadata": {
        "id": "ZN0_TyGsqn_h"
      },
      "source": [
        "# Graph Generator"
      ]
    },
    {
      "cell_type": "code",
      "execution_count": 32,
      "metadata": {
        "id": "TFKzJre9qmrL"
      },
      "outputs": [],
      "source": [
        "# Function to create the generator model\n",
        "def GraphGenerator(dense_units, dropout_rate, latent_dim, adjacency_shape, feature_shape):\n",
        "    z = keras.layers.Input(shape=(LATENT_DIM,))\n",
        "    x = z\n",
        "    for units in dense_units:\n",
        "        x = keras.layers.Dense(units, activation=\"tanh\")(x)\n",
        "        x = keras.layers.Dropout(dropout_rate)(x)\n",
        "    x_adjacency = keras.layers.Dense(tf.math.reduce_prod(adjacency_shape))(x)\n",
        "    x_adjacency = keras.layers.Reshape(adjacency_shape)(x_adjacency)\n",
        "    x_adjacency = (x_adjacency + tf.transpose(x_adjacency, (0, 1, 3, 2))) / 2\n",
        "    x_adjacency = keras.layers.Softmax(axis=1)(x_adjacency)\n",
        "    x_features = keras.layers.Dense(tf.math.reduce_prod(feature_shape))(x)\n",
        "    x_features = keras.layers.Reshape(feature_shape)(x_features)\n",
        "    x_features = keras.layers.Softmax(axis=2)(x_features)\n",
        "    return keras.Model(inputs=z, outputs=[x_adjacency, x_features], name=\"Generator\")\n"
      ]
    },
    {
      "cell_type": "markdown",
      "metadata": {
        "id": "edd9yBi8qwZi"
      },
      "source": [
        "# Build the model"
      ]
    },
    {
      "cell_type": "code",
      "execution_count": 33,
      "metadata": {
        "colab": {
          "base_uri": "https://localhost:8080/"
        },
        "id": "nFbj2ob_qqn7",
        "outputId": "60e7d42d-45a3-46ae-9fbc-00977199d3fa"
      },
      "outputs": [
        {
          "name": "stdout",
          "output_type": "stream",
          "text": [
            "Model: \"Generator\"\n",
            "__________________________________________________________________________________________________\n",
            "Layer (type)                    Output Shape         Param #     Connected to                     \n",
            "==================================================================================================\n",
            "input_1 (InputLayer)            [(None, 64)]         0                                            \n",
            "__________________________________________________________________________________________________\n",
            "dense (Dense)                   (None, 128)          8320        input_1[0][0]                    \n",
            "__________________________________________________________________________________________________\n",
            "dropout (Dropout)               (None, 128)          0           dense[0][0]                      \n",
            "__________________________________________________________________________________________________\n",
            "dense_1 (Dense)                 (None, 256)          33024       dropout[0][0]                    \n",
            "__________________________________________________________________________________________________\n",
            "dropout_1 (Dropout)             (None, 256)          0           dense_1[0][0]                    \n",
            "__________________________________________________________________________________________________\n",
            "dense_2 (Dense)                 (None, 512)          131584      dropout_1[0][0]                  \n",
            "__________________________________________________________________________________________________\n",
            "dropout_2 (Dropout)             (None, 512)          0           dense_2[0][0]                    \n",
            "__________________________________________________________________________________________________\n",
            "dense_3 (Dense)                 (None, 405)          207765      dropout_2[0][0]                  \n",
            "__________________________________________________________________________________________________\n",
            "reshape (Reshape)               (None, 5, 9, 9)      0           dense_3[0][0]                    \n",
            "__________________________________________________________________________________________________\n",
            "tf.compat.v1.transpose (TFOpLam (None, 5, 9, 9)      0           reshape[0][0]                    \n",
            "__________________________________________________________________________________________________\n",
            "tf.__operators__.add (TFOpLambd (None, 5, 9, 9)      0           reshape[0][0]                    \n",
            "                                                                 tf.compat.v1.transpose[0][0]     \n",
            "__________________________________________________________________________________________________\n",
            "dense_4 (Dense)                 (None, 45)           23085       dropout_2[0][0]                  \n",
            "__________________________________________________________________________________________________\n",
            "tf.math.truediv (TFOpLambda)    (None, 5, 9, 9)      0           tf.__operators__.add[0][0]       \n",
            "__________________________________________________________________________________________________\n",
            "reshape_1 (Reshape)             (None, 9, 5)         0           dense_4[0][0]                    \n",
            "__________________________________________________________________________________________________\n",
            "softmax (Softmax)               (None, 5, 9, 9)      0           tf.math.truediv[0][0]            \n",
            "__________________________________________________________________________________________________\n",
            "softmax_1 (Softmax)             (None, 9, 5)         0           reshape_1[0][0]                  \n",
            "==================================================================================================\n",
            "Total params: 403,778\n",
            "Trainable params: 403,778\n",
            "Non-trainable params: 0\n",
            "__________________________________________________________________________________________________\n"
          ]
        }
      ],
      "source": [
        "# Creating the generator model\n",
        "generator = GraphGenerator(\n",
        "    dense_units=[128, 256, 512],\n",
        "    dropout_rate=0.2,\n",
        "    latent_dim=LATENT_DIM,\n",
        "    adjacency_shape=(BOND_DIM, NUM_ATOMS, NUM_ATOMS),\n",
        "    feature_shape=(NUM_ATOMS, ATOM_DIM),\n",
        ")\n",
        "generator.summary()\n"
      ]
    },
    {
      "cell_type": "code",
      "execution_count": 34,
      "metadata": {
        "id": "WBhIoMNhqzJp"
      },
      "outputs": [],
      "source": [
        "# Class for relational graph convolutional layer\n",
        "class RelationalGraphConvLayer(keras.layers.Layer):\n",
        "    def __init__(self, units=128, activation=\"relu\", use_bias=False, kernel_initializer=\"glorot_uniform\",\n",
        "                 bias_initializer=\"zeros\", kernel_regularizer=None, bias_regularizer=None, **kwargs):\n",
        "        super().__init__(**kwargs)\n",
        "        self.units = units\n",
        "        self.activation = keras.activations.get(activation)\n",
        "        self.use_bias = use_bias\n",
        "        self.kernel_initializer = keras.initializers.get(kernel_initializer)\n",
        "        self.bias_initializer = keras.initializers.get(bias_initializer)\n",
        "        self.kernel_regularizer = keras.regularizers.get(kernel_regularizer)\n",
        "        self.bias_regularizer = keras.regularizers.get(bias_regularizer)\n",
        "\n",
        "    def build(self, input_shape):\n",
        "        bond_dim = input_shape[0][1]\n",
        "        atom_dim = input_shape[1][2]\n",
        "        self.kernel = self.add_weight(\n",
        "            shape=(bond_dim, atom_dim, self.units),\n",
        "            initializer=self.kernel_initializer,\n",
        "            regularizer=self.kernel_regularizer,\n",
        "            trainable=True,\n",
        "            name=\"W\",\n",
        "            dtype=tf.float32,\n",
        "        )\n",
        "        if self.use_bias:\n",
        "            self.bias = self.add_weight(\n",
        "                shape=(bond_dim, 1, self.units),\n",
        "                initializer=self.bias_initializer,\n",
        "                regularizer=self.bias_regularizer,\n",
        "                trainable=True,\n",
        "                name=\"b\",\n",
        "                dtype=tf.float32,\n",
        "            )\n",
        "        self.built = True\n",
        "\n",
        "    def call(self, inputs, training=False):\n",
        "        adjacency, features = inputs\n",
        "        x = tf.matmul(adjacency, features[:, None, :, :])\n",
        "        x = tf.matmul(x, self.kernel)\n",
        "        if self.use_bias:\n",
        "            x += self.bias\n",
        "        x_reduced = tf.reduce_sum(x, axis=1)\n",
        "        return self.activation(x_reduced)"
      ]
    },
    {
      "cell_type": "markdown",
      "metadata": {
        "id": "XkDnbrtGrFC0"
      },
      "source": [
        "# Discriminator"
      ]
    },
    {
      "cell_type": "code",
      "execution_count": 35,
      "metadata": {
        "id": "b8KdOpbtrHDX"
      },
      "outputs": [],
      "source": [
        "# Function to create the discriminator model\n",
        "def GraphDiscriminator(gconv_units, dense_units, dropout_rate, adjacency_shape, feature_shape):\n",
        "    adjacency = keras.layers.Input(shape=adjacency_shape)\n",
        "    features = keras.layers.Input(shape=feature_shape)\n",
        "    features_transformed = features\n",
        "    for units in gconv_units:\n",
        "        features_transformed = RelationalGraphConvLayer(units)([adjacency, features_transformed])\n",
        "    x = keras.layers.GlobalAveragePooling1D()(features_transformed)\n",
        "    for units in dense_units:\n",
        "        x = keras.layers.Dense(units, activation=\"relu\")(x)\n",
        "        x = keras.layers.Dropout(dropout_rate)(x)\n",
        "    x_out = keras.layers.Dense(1, dtype=\"float32\")(x)\n",
        "    return keras.Model(inputs=[adjacency, features], outputs=x_out)\n"
      ]
    },
    {
      "cell_type": "code",
      "execution_count": 36,
      "metadata": {
        "colab": {
          "base_uri": "https://localhost:8080/"
        },
        "id": "gPShZKZMrK7j",
        "outputId": "f0b6a3cb-fc28-45aa-b126-0c32c60ba065"
      },
      "outputs": [
        {
          "name": "stdout",
          "output_type": "stream",
          "text": [
            "Model: \"model\"\n",
            "__________________________________________________________________________________________________\n",
            "Layer (type)                    Output Shape         Param #     Connected to                     \n",
            "==================================================================================================\n",
            "input_2 (InputLayer)            [(None, 5, 9, 9)]    0                                            \n",
            "__________________________________________________________________________________________________\n",
            "input_3 (InputLayer)            [(None, 9, 5)]       0                                            \n",
            "__________________________________________________________________________________________________\n",
            "relational_graph_conv_layer (Re (None, 9, 128)       3200        input_2[0][0]                    \n",
            "                                                                 input_3[0][0]                    \n",
            "__________________________________________________________________________________________________\n",
            "relational_graph_conv_layer_1 ( (None, 9, 128)       81920       input_2[0][0]                    \n",
            "                                                                 relational_graph_conv_layer[0][0]\n",
            "__________________________________________________________________________________________________\n",
            "relational_graph_conv_layer_2 ( (None, 9, 128)       81920       input_2[0][0]                    \n",
            "                                                                 relational_graph_conv_layer_1[0][\n",
            "__________________________________________________________________________________________________\n",
            "relational_graph_conv_layer_3 ( (None, 9, 128)       81920       input_2[0][0]                    \n",
            "                                                                 relational_graph_conv_layer_2[0][\n",
            "__________________________________________________________________________________________________\n",
            "global_average_pooling1d (Globa (None, 128)          0           relational_graph_conv_layer_3[0][\n",
            "__________________________________________________________________________________________________\n",
            "dense_5 (Dense)                 (None, 512)          66048       global_average_pooling1d[0][0]   \n",
            "__________________________________________________________________________________________________\n",
            "dropout_3 (Dropout)             (None, 512)          0           dense_5[0][0]                    \n",
            "__________________________________________________________________________________________________\n",
            "dense_6 (Dense)                 (None, 512)          262656      dropout_3[0][0]                  \n",
            "__________________________________________________________________________________________________\n",
            "dropout_4 (Dropout)             (None, 512)          0           dense_6[0][0]                    \n",
            "__________________________________________________________________________________________________\n",
            "dense_7 (Dense)                 (None, 1)            513         dropout_4[0][0]                  \n",
            "==================================================================================================\n",
            "Total params: 578,177\n",
            "Trainable params: 578,177\n",
            "Non-trainable params: 0\n",
            "__________________________________________________________________________________________________\n"
          ]
        }
      ],
      "source": [
        "# Creating the discriminator model\n",
        "discriminator = GraphDiscriminator(\n",
        "    gconv_units=[128, 128, 128, 128],\n",
        "    dense_units=[512, 512],\n",
        "    dropout_rate=0.2,\n",
        "    adjacency_shape=(BOND_DIM, NUM_ATOMS, NUM_ATOMS),\n",
        "    feature_shape=(NUM_ATOMS, ATOM_DIM),\n",
        ")\n",
        "discriminator.summary()"
      ]
    },
    {
      "cell_type": "markdown",
      "metadata": {
        "id": "72GqHDh6rXbv"
      },
      "source": [
        "# Graph Wasserstein GAN"
      ]
    },
    {
      "cell_type": "code",
      "execution_count": 37,
      "metadata": {
        "id": "rWMurfrtrV8W"
      },
      "outputs": [],
      "source": [
        "# Class for the graph Wasserstein GAN\n",
        "class GraphWGAN(keras.Model):\n",
        "    def __init__(self, generator, discriminator, discriminator_steps=1, generator_steps=1, gp_weight=10, **kwargs):\n",
        "        super().__init__(**kwargs)\n",
        "        self.generator = generator\n",
        "        self.discriminator = discriminator\n",
        "        self.discriminator_steps = discriminator_steps\n",
        "        self.generator_steps = generator_steps\n",
        "        self.gp_weight = gp_weight\n",
        "        self.latent_dim = self.generator.input_shape[-1]\n",
        "\n",
        "    def compile(self, optimizer_generator, optimizer_discriminator, **kwargs):\n",
        "        super().compile(**kwargs)\n",
        "        self.optimizer_generator = optimizer_generator\n",
        "        self.optimizer_discriminator = optimizer_discriminator\n",
        "        self.metric_generator = keras.metrics.Mean(name=\"loss_gen\")\n",
        "        self.metric_discriminator = keras.metrics.Mean(name=\"loss_dis\")\n",
        "\n",
        "    def train_step(self, inputs):\n",
        "        if isinstance(inputs[0], tuple):\n",
        "            inputs = inputs[0]\n",
        "        graph_real = inputs\n",
        "        self.batch_size = tf.shape(inputs[0])[0]\n",
        "\n",
        "        for _ in range(self.discriminator_steps):\n",
        "            z = tf.random.normal((self.batch_size, self.latent_dim))\n",
        "            with tf.GradientTape() as tape:\n",
        "                graph_generated = self.generator(z, training=True)\n",
        "                loss = self._loss_discriminator(graph_real, graph_generated)\n",
        "            grads = tape.gradient(loss, self.discriminator.trainable_weights)\n",
        "            self.optimizer_discriminator.apply_gradients(zip(grads, self.discriminator.trainable_weights))\n",
        "            self.metric_discriminator.update_state(loss)\n",
        "\n",
        "        for _ in range(self.generator_steps):\n",
        "            z = tf.random.normal((self.batch_size, self.latent_dim))\n",
        "            with tf.GradientTape() as tape:\n",
        "                graph_generated = self.generator(z, training=True)\n",
        "                loss = self._loss_generator(graph_generated)\n",
        "                grads = tape.gradient(loss, self.generator.trainable_weights)\n",
        "                self.optimizer_generator.apply_gradients(zip(grads, self.generator.trainable_weights))\n",
        "                self.metric_generator.update_state(loss)\n",
        "\n",
        "        return {m.name: m.result() for m in self.metrics}\n",
        "\n",
        "    def _loss_discriminator(self, graph_real, graph_generated):\n",
        "        logits_real = self.discriminator(graph_real, training=True)\n",
        "        logits_generated = self.discriminator(graph_generated, training=True)\n",
        "        loss = tf.reduce_mean(logits_generated) - tf.reduce_mean(logits_real)\n",
        "        loss_gp = self._gradient_penalty(graph_real, graph_generated)\n",
        "        return loss + loss_gp * self.gp_weight\n",
        "\n",
        "    def _loss_generator(self, graph_generated):\n",
        "        logits_generated = self.discriminator(graph_generated, training=True)\n",
        "        return -tf.reduce_mean(logits_generated)\n",
        "\n",
        "    def _gradient_penalty(self, graph_real, graph_generated):\n",
        "        adjacency_real, features_real = graph_real\n",
        "        adjacency_generated, features_generated = graph_generated\n",
        "        alpha = tf.random.uniform([self.batch_size])\n",
        "        alpha = tf.reshape(alpha, (self.batch_size, 1, 1, 1))\n",
        "        adjacency_interp = (adjacency_real * alpha) + (1 - alpha) * adjacency_generated\n",
        "        alpha = tf.reshape(alpha, (self.batch_size, 1, 1))\n",
        "        features_interp = (features_real * alpha) + (1 - alpha) * features_generated\n",
        "        with tf.GradientTape() as tape:\n",
        "            tape.watch(adjacency_interp)\n",
        "            tape.watch(features_interp)\n",
        "            logits = self.discriminator([adjacency_interp, features_interp], training=True)\n",
        "        grads = tape.gradient(logits, [adjacency_interp, features_interp])\n",
        "        grads_adjacency_penalty = (1 - tf.norm(grads[0], axis=1)) ** 2\n",
        "        grads_features_penalty = (1 - tf.norm(grads[1], axis=2)) ** 2\n",
        "        return tf.reduce_mean(\n",
        "            tf.reduce_mean(grads_adjacency_penalty, axis=(-2, -1)) +\n",
        "            tf.reduce_mean(grads_features_penalty, axis=(-1))\n",
        "        )\n"
      ]
    },
    {
      "cell_type": "code",
      "execution_count": 38,
      "metadata": {
        "id": "qfm5KOv8rzbQ"
      },
      "outputs": [],
      "source": [
        "# Creating the GraphWGAN model\n",
        "wgan = GraphWGAN(generator, discriminator, discriminator_steps=1)\n",
        "wgan.compile(\n",
        "    optimizer_generator=keras.optimizers.Adam(5e-4),\n",
        "    optimizer_discriminator=keras.optimizers.Adam(5e-4),\n",
        ")"
      ]
    },
    {
      "cell_type": "markdown",
      "metadata": {
        "id": "lleczoZ7r7hr"
      },
      "source": [
        "* Train the model"
      ]
    },
    {
      "cell_type": "code",
      "execution_count": 40,
      "metadata": {
        "colab": {
          "base_uri": "https://localhost:8080/"
        },
        "id": "4Nx7JbX9r2qb",
        "outputId": "afd45d78-5d95-494e-e8ff-6bf2d857a1f1"
      },
      "outputs": [
        {
          "name": "stdout",
          "output_type": "stream",
          "text": [
            "Epoch 1/10\n",
            "837/837 [==============================] - 66s 79ms/step - loss_gen: 0.3502 - loss_dis: -1.4200\n",
            "Epoch 2/10\n",
            "837/837 [==============================] - 65s 78ms/step - loss_gen: 0.4512 - loss_dis: -1.5328\n",
            "Epoch 3/10\n",
            "837/837 [==============================] - 69s 82ms/step - loss_gen: -0.4632 - loss_dis: -1.1184\n",
            "Epoch 4/10\n",
            "837/837 [==============================] - 68s 81ms/step - loss_gen: 0.1728 - loss_dis: -1.3191\n",
            "Epoch 5/10\n",
            "837/837 [==============================] - 66s 79ms/step - loss_gen: -0.0312 - loss_dis: -1.3432\n",
            "Epoch 6/10\n",
            "837/837 [==============================] - 68s 81ms/step - loss_gen: 0.1224 - loss_dis: -1.2221\n",
            "Epoch 7/10\n",
            "837/837 [==============================] - 68s 81ms/step - loss_gen: 0.1028 - loss_dis: -1.2824\n",
            "Epoch 8/10\n",
            "837/837 [==============================] - 97s 116ms/step - loss_gen: 0.0749 - loss_dis: -1.4273\n",
            "Epoch 9/10\n",
            "837/837 [==============================] - 79s 95ms/step - loss_gen: -0.0452 - loss_dis: -1.3975\n",
            "Epoch 10/10\n",
            "837/837 [==============================] - 72s 86ms/step - loss_gen: 0.1905 - loss_dis: -1.3804\n"
          ]
        },
        {
          "data": {
            "text/plain": [
              "<keras.callbacks.History at 0x1637564d550>"
            ]
          },
          "execution_count": 40,
          "metadata": {},
          "output_type": "execute_result"
        }
      ],
      "source": [
        "# Training the GraphWGAN model\n",
        "wgan.fit([adjacency_tensor, feature_tensor], epochs=10, batch_size=16)\n",
        "\n",
        "\n"
      ]
    },
    {
      "cell_type": "markdown",
      "metadata": {
        "id": "bm1GyMgfsCDl"
      },
      "source": [
        "* Save the model"
      ]
    },
    {
      "cell_type": "code",
      "execution_count": 42,
      "metadata": {
        "colab": {
          "base_uri": "https://localhost:8080/"
        },
        "id": "zIIIgxPvsDNZ",
        "outputId": "5375ae8a-963e-44ca-d665-ed3eea5b60a9"
      },
      "outputs": [
        {
          "data": {
            "text/plain": [
              "<tensorflow.python.training.tracking.util.CheckpointLoadStatus at 0x16372472d60>"
            ]
          },
          "execution_count": 42,
          "metadata": {},
          "output_type": "execute_result"
        }
      ],
      "source": [
        "# Saving and loading the model weights\n",
        "model_path = r\"C:\\Users\\Kered\\GAN_Mastery\\02_labs\\molecules_gan\\outputs\\my_model\"\n",
        "wgan.save_weights(model_path)\n",
        "wgan.load_weights(model_path)\n"
      ]
    },
    {
      "cell_type": "code",
      "execution_count": 43,
      "metadata": {
        "id": "bs9t-iSlsKVg"
      },
      "outputs": [],
      "source": [
        "# Function to sample molecules from the generator model\n",
        "def sample(generator, batch_size):\n",
        "    z = tf.random.normal((batch_size, LATENT_DIM))\n",
        "    graph = generator.predict(z)\n",
        "    adjacency = tf.argmax(graph[0], axis=1)\n",
        "    adjacency = tf.one_hot(adjacency, depth=BOND_DIM, axis=1)\n",
        "    adjacency = tf.linalg.set_diag(adjacency, tf.zeros(tf.shape(adjacency)[:-1]))\n",
        "    features = tf.argmax(graph[1], axis=2)\n",
        "    features = tf.one_hot(features, depth=ATOM_DIM, axis=2)\n",
        "    return [\n",
        "        graph_to_molecule([adjacency[i].numpy(), features[i].numpy()])\n",
        "        for i in range(batch_size)\n",
        "    ]\n"
      ]
    },
    {
      "cell_type": "code",
      "execution_count": 44,
      "metadata": {
        "colab": {
          "base_uri": "https://localhost:8080/"
        },
        "id": "-4hOQtbqtLJQ",
        "outputId": "39b673dd-2fb9-4b4a-fddb-8621cff7fd19"
      },
      "outputs": [],
      "source": [
        "# Generating molecules from the generator model\n",
        "molecules = sample(wgan.generator, batch_size=48)"
      ]
    },
    {
      "cell_type": "code",
      "execution_count": 45,
      "metadata": {
        "colab": {
          "base_uri": "https://localhost:8080/",
          "height": 1000
        },
        "id": "-pRgRDoZtQBA",
        "outputId": "fdd51e83-377d-4bb1-e5cf-aad306837b4b"
      },
      "outputs": [
        {
          "data": {
            "image/png": "[encoded data removed]",
            "text/plain": [
              "<PIL.PngImagePlugin.PngImageFile image mode=RGB size=750x1050 at 0x1636D801F40>"
            ]
          },
          "execution_count": 45,
          "metadata": {},
          "output_type": "execute_result"
        }
      ],
      "source": [
        "# Displaying the molecules as an image grid\n",
        "MolsToGridImage(\n",
        "    [m for m in molecules if m is not None][:50],\n",
        "    molsPerRow=5,\n",
        "    subImgSize=(150, 150),\n",
        "    returnPNG=False\n",
        ")"
      ]
    },
    {
      "cell_type": "markdown",
      "metadata": {
        "id": "5OcHrsvturlo"
      },
      "source": [
        "* Save result"
      ]
    },
    {
      "cell_type": "code",
      "execution_count": 46,
      "metadata": {
        "id": "gXgf46e4utux"
      },
      "outputs": [
        {
          "ename": "NameError",
          "evalue": "name 'svg' is not defined",
          "output_type": "error",
          "traceback": [
            "\u001b[1;31m---------------------------------------------------------------------------\u001b[0m",
            "\u001b[1;31mNameError\u001b[0m                                 Traceback (most recent call last)",
            "\u001b[1;32m~\\AppData\\Local\\Temp/ipykernel_18460/3617377612.py\u001b[0m in \u001b[0;36m<module>\u001b[1;34m\u001b[0m\n\u001b[0;32m      3\u001b[0m \u001b[0mimg\u001b[0m\u001b[1;33m=\u001b[0m\u001b[0mDraw\u001b[0m\u001b[1;33m.\u001b[0m\u001b[0mMolsToGridImage\u001b[0m\u001b[1;33m(\u001b[0m\u001b[0mmolecules\u001b[0m\u001b[1;33m[\u001b[0m\u001b[1;33m:\u001b[0m\u001b[1;36m50\u001b[0m\u001b[1;33m]\u001b[0m\u001b[1;33m,\u001b[0m\u001b[0mmolsPerRow\u001b[0m\u001b[1;33m=\u001b[0m\u001b[1;36m4\u001b[0m\u001b[1;33m,\u001b[0m\u001b[0msubImgSize\u001b[0m\u001b[1;33m=\u001b[0m\u001b[1;33m(\u001b[0m\u001b[1;36m200\u001b[0m\u001b[1;33m,\u001b[0m\u001b[1;36m200\u001b[0m\u001b[1;33m)\u001b[0m\u001b[1;33m)\u001b[0m\u001b[1;33m\u001b[0m\u001b[1;33m\u001b[0m\u001b[0m\n\u001b[0;32m      4\u001b[0m \u001b[1;31m# img.save('/content/drive/My Drive/graph-generation/Graph_Gen/cdk2_molgrid.o.png')\u001b[0m\u001b[1;33m\u001b[0m\u001b[1;33m\u001b[0m\u001b[1;33m\u001b[0m\u001b[0m\n\u001b[1;32m----> 5\u001b[1;33m \u001b[0msvg\u001b[0m\u001b[1;33m(\u001b[0m\u001b[0mimg\u001b[0m\u001b[1;33m)\u001b[0m\u001b[1;33m\u001b[0m\u001b[1;33m\u001b[0m\u001b[0m\n\u001b[0m",
            "\u001b[1;31mNameError\u001b[0m: name 'svg' is not defined"
          ]
        }
      ],
      "source": [
        "from rdkit import Chem\n",
        "from rdkit.Chem import Draw\n",
        "img=Draw.MolsToGridImage(molecules[:50],molsPerRow=4,subImgSize=(200,200))\n",
        "# img.save('/content/drive/My Drive/graph-generation/Graph_Gen/cdk2_molgrid.o.png')\n",
        "svg(img)"
      ]
    },
    {
      "cell_type": "code",
      "execution_count": null,
      "metadata": {
        "id": "hwgVuUmdv5ER"
      },
      "outputs": [],
      "source": [
        "img = MolsToGridImage(molecules, molsPerRow=3, subImgSize=(200, 200), legends=None, highlightAtomLists=None, highlightBondLists=None)"
      ]
    },
    {
      "cell_type": "code",
      "execution_count": 47,
      "metadata": {
        "id": "RlRwmzqt9YKX"
      },
      "outputs": [
        {
          "ename": "AttributeError",
          "evalue": "'Image' object has no attribute 'svg2png'",
          "output_type": "error",
          "traceback": [
            "\u001b[1;31m---------------------------------------------------------------------------\u001b[0m",
            "\u001b[1;31mAttributeError\u001b[0m                            Traceback (most recent call last)",
            "\u001b[1;32m~\\AppData\\Local\\Temp/ipykernel_18460/4206271626.py\u001b[0m in \u001b[0;36m<module>\u001b[1;34m\u001b[0m\n\u001b[0;32m      5\u001b[0m \u001b[1;31m# img.save('/content/drive/My Drive/graph-generation/Graph_Gen/mol2grid.png')\u001b[0m\u001b[1;33m\u001b[0m\u001b[1;33m\u001b[0m\u001b[1;33m\u001b[0m\u001b[0m\n\u001b[0;32m      6\u001b[0m \u001b[1;31m# img.save('output.png')\u001b[0m\u001b[1;33m\u001b[0m\u001b[1;33m\u001b[0m\u001b[1;33m\u001b[0m\u001b[0m\n\u001b[1;32m----> 7\u001b[1;33m \u001b[0mimg\u001b[0m\u001b[1;33m.\u001b[0m\u001b[0msvg2png\u001b[0m\u001b[1;33m(\u001b[0m \u001b[1;34mr'C:\\Users\\Kered\\GAN_Mastery\\02_labs\\molecules_gan\\outputs'\u001b[0m\u001b[1;33m,\u001b[0m \u001b[0mwrite_to\u001b[0m\u001b[1;33m=\u001b[0m \u001b[1;34m\"svg_\"\u001b[0m\u001b[1;33m+\u001b[0m\u001b[0mfname\u001b[0m\u001b[1;33m+\u001b[0m\u001b[1;34m\"png\"\u001b[0m \u001b[1;33m)\u001b[0m\u001b[1;33m\u001b[0m\u001b[1;33m\u001b[0m\u001b[0m\n\u001b[0m",
            "\u001b[1;31mAttributeError\u001b[0m: 'Image' object has no attribute 'svg2png'"
          ]
        }
      ],
      "source": [
        "from rdkit import Chem\n",
        "from rdkit.Chem import Draw\n",
        "from PIL import Image\n",
        "\n",
        "# img.save('/content/drive/My Drive/graph-generation/Graph_Gen/mol2grid.png')\n",
        "# img.save('output.png')\n",
        "img.svg2png( r'C:\\Users\\Kered\\GAN_Mastery\\02_labs\\molecules_gan\\outputs', write_to= \"svg_\"+fname+\"png\" )\n"
      ]
    },
    {
      "cell_type": "code",
      "execution_count": 48,
      "metadata": {
        "colab": {
          "base_uri": "https://localhost:8080/",
          "height": 1000
        },
        "id": "Biz80kyfy9CB",
        "outputId": "aedce301-f023-4e97-a2a4-ec2cfeaa7dfa"
      },
      "outputs": [
        {
          "data": {
            "image/png": "[encoded data removed]",
            "text/plain": [
              "<PIL.PngImagePlugin.PngImageFile image mode=RGB size=750x1050 at 0x16372472F10>"
            ]
          },
          "execution_count": 48,
          "metadata": {},
          "output_type": "execute_result"
        }
      ],
      "source": [
        "img = MolsToGridImage(\n",
        "    [m for m in molecules if m is not None][:50],\n",
        "    molsPerRow=5,\n",
        "    subImgSize=(150, 150),\n",
        "    returnPNG=False\n",
        "\n",
        ")\n",
        "img"
      ]
    },
    {
      "cell_type": "code",
      "execution_count": null,
      "metadata": {
        "id": "0RpgsaEI4Rfh"
      },
      "outputs": [],
      "source": [
        "import os\n",
        "output_path = os.path.dirname('/content/drive/My Drive/graph-generation/Graph_Gen/')"
      ]
    },
    {
      "cell_type": "code",
      "execution_count": null,
      "metadata": {
        "id": "EiM382LO2UdM"
      },
      "outputs": [],
      "source": [
        "import os\n",
        "output_path = os.path.dirname('/content/content/drive/My Drive/graph-generation/Graph_Gen')\n",
        "\n",
        "\n",
        "def plot_rdkit_svg_grid(mols, mols_per_row=5, filename=None, **kwargs):\n",
        "    \"\"\"\n",
        "    Plots a grid of RDKit molecules in SVG.\n",
        "    :param mols: a list of RDKit molecules\n",
        "    :param mols_per_row: size of the grid\n",
        "    :param filename: save an image with the given filename\n",
        "    :param kwargs: additional arguments for `RDKit.Chem.Draw.MolsToGridImage`\n",
        "    :return: the SVG as a string\n",
        "    \"\"\"\n",
        "    png = Draw.MolsToGridImage(mols, molsPerRow=mols_per_row, useSVG=True, returnPNG=False)\n",
        "    if filename is not None:\n",
        "        if not filename.endswith('.png'):\n",
        "            filename += '.png'\n",
        "        # with open(filename, 'w') as f:\n",
        "        with open(os.path.join(output_path, 'Fig_molecules_Gen'), 'w') as f:\n",
        "            f.write(png)\n",
        "    return png"
      ]
    },
    {
      "cell_type": "code",
      "execution_count": null,
      "metadata": {
        "id": "f_QTuFuh38yX"
      },
      "outputs": [],
      "source": [
        "# import os\n",
        "\n",
        "# output_path = os.path.dirname(deck)\n",
        "# with open(deck, 'r') as data:\n",
        "#     with open(os.path.join(output_path, 'output.txt'), 'w') as output:"
      ]
    },
    {
      "cell_type": "code",
      "execution_count": null,
      "metadata": {
        "id": "bD5fAavZ3BOC"
      },
      "outputs": [],
      "source": [
        "fig=plot_rdkit_svg_grid(molecules, mols_per_row=5, filename=None)"
      ]
    },
    {
      "cell_type": "code",
      "execution_count": null,
      "metadata": {
        "id": "WtHLELAx3cj3"
      },
      "outputs": [],
      "source": [
        "#fig.save('molecules.png')\n",
        "#useSVG=True\n",
        "fig.save(output_path)\n",
        "save_svg(svg, file_name + '.svg', dpi=150)"
      ]
    },
    {
      "cell_type": "code",
      "execution_count": null,
      "metadata": {
        "id": "yYETHqIP3dEI"
      },
      "outputs": [],
      "source": []
    }
  ],
  "metadata": {
    "accelerator": "GPU",
    "colab": {
      "gpuType": "T4",
      "provenance": []
    },
    "kernelspec": {
      "display_name": "Python 3",
      "name": "python3"
    },
    "language_info": {
      "codemirror_mode": {
        "name": "ipython",
        "version": 3
      },
      "file_extension": ".py",
      "mimetype": "text/x-python",
      "name": "python",
      "nbconvert_exporter": "python",
      "pygments_lexer": "ipython3",
      "version": "3.8.0"
    }
  },
  "nbformat": 4,
  "nbformat_minor": 0
}
