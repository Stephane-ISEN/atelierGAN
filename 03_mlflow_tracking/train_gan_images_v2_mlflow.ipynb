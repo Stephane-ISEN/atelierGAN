{
 "cells": [
  {
   "cell_type": "markdown",
   "id": "dc216b6e",
   "metadata": {},
   "source": [
    "# GAN sur MNIST (TensorFlow) - Version 2 avec MLflow"
   ]
  },
  {
   "cell_type": "code",
   "execution_count": 7,
   "id": "964ef135",
   "metadata": {},
   "outputs": [
    {
     "name": "stdout",
     "output_type": "stream",
     "text": [
      "Note: you may need to restart the kernel to use updated packages.\n"
     ]
    },
    {
     "name": "stderr",
     "output_type": "stream",
     "text": [
      "ERROR: Exception:\n",
      "Traceback (most recent call last):\n",
      "  File \"c:\\Users\\Kered\\AppData\\Local\\Programs\\Python\\Python38\\lib\\site-packages\\pip\\_vendor\\urllib3\\response.py\", line 397, in _error_catcher\n",
      "    yield\n",
      "  File \"c:\\Users\\Kered\\AppData\\Local\\Programs\\Python\\Python38\\lib\\site-packages\\pip\\_vendor\\urllib3\\response.py\", line 479, in read\n",
      "    data = self._fp.read(amt)\n",
      "  File \"c:\\Users\\Kered\\AppData\\Local\\Programs\\Python\\Python38\\lib\\site-packages\\pip\\_vendor\\cachecontrol\\filewrapper.py\", line 62, in read\n",
      "    data = self.__fp.read(amt)\n",
      "  File \"c:\\Users\\Kered\\AppData\\Local\\Programs\\Python\\Python38\\lib\\http\\client.py\", line 454, in read\n",
      "    n = self.readinto(b)\n",
      "  File \"c:\\Users\\Kered\\AppData\\Local\\Programs\\Python\\Python38\\lib\\http\\client.py\", line 498, in readinto\n",
      "    n = self.fp.readinto(b)\n",
      "  File \"c:\\Users\\Kered\\AppData\\Local\\Programs\\Python\\Python38\\lib\\socket.py\", line 669, in readinto\n",
      "    return self._sock.recv_into(b)\n",
      "  File \"c:\\Users\\Kered\\AppData\\Local\\Programs\\Python\\Python38\\lib\\ssl.py\", line 1241, in recv_into\n",
      "    return self.read(nbytes, buffer)\n",
      "  File \"c:\\Users\\Kered\\AppData\\Local\\Programs\\Python\\Python38\\lib\\ssl.py\", line 1099, in read\n",
      "    return self._sslobj.read(len, buffer)\n",
      "socket.timeout: The read operation timed out\n",
      "\n",
      "During handling of the above exception, another exception occurred:\n",
      "\n",
      "Traceback (most recent call last):\n",
      "  File \"c:\\Users\\Kered\\AppData\\Local\\Programs\\Python\\Python38\\lib\\site-packages\\pip\\_internal\\cli\\base_command.py\", line 188, in main\n",
      "    status = self.run(options, args)\n",
      "  File \"c:\\Users\\Kered\\AppData\\Local\\Programs\\Python\\Python38\\lib\\site-packages\\pip\\_internal\\commands\\install.py\", line 345, in run\n",
      "    resolver.resolve(requirement_set)\n",
      "  File \"c:\\Users\\Kered\\AppData\\Local\\Programs\\Python\\Python38\\lib\\site-packages\\pip\\_internal\\legacy_resolve.py\", line 196, in resolve\n",
      "    self._resolve_one(requirement_set, req)\n",
      "  File \"c:\\Users\\Kered\\AppData\\Local\\Programs\\Python\\Python38\\lib\\site-packages\\pip\\_internal\\legacy_resolve.py\", line 359, in _resolve_one\n",
      "    abstract_dist = self._get_abstract_dist_for(req_to_install)\n",
      "  File \"c:\\Users\\Kered\\AppData\\Local\\Programs\\Python\\Python38\\lib\\site-packages\\pip\\_internal\\legacy_resolve.py\", line 305, in _get_abstract_dist_for\n",
      "    abstract_dist = self.preparer.prepare_linked_requirement(\n",
      "  File \"c:\\Users\\Kered\\AppData\\Local\\Programs\\Python\\Python38\\lib\\site-packages\\pip\\_internal\\operations\\prepare.py\", line 195, in prepare_linked_requirement\n",
      "    unpack_url(\n",
      "  File \"c:\\Users\\Kered\\AppData\\Local\\Programs\\Python\\Python38\\lib\\site-packages\\pip\\_internal\\download.py\", line 1058, in unpack_url\n",
      "    unpack_http_url(\n",
      "  File \"c:\\Users\\Kered\\AppData\\Local\\Programs\\Python\\Python38\\lib\\site-packages\\pip\\_internal\\download.py\", line 920, in unpack_http_url\n",
      "    from_path, content_type = _download_http_url(link,\n",
      "  File \"c:\\Users\\Kered\\AppData\\Local\\Programs\\Python\\Python38\\lib\\site-packages\\pip\\_internal\\download.py\", line 1152, in _download_http_url\n",
      "    _download_url(resp, link, content_file, hashes, progress_bar)\n",
      "  File \"c:\\Users\\Kered\\AppData\\Local\\Programs\\Python\\Python38\\lib\\site-packages\\pip\\_internal\\download.py\", line 861, in _download_url\n",
      "    hashes.check_against_chunks(downloaded_chunks)\n",
      "  File \"c:\\Users\\Kered\\AppData\\Local\\Programs\\Python\\Python38\\lib\\site-packages\\pip\\_internal\\utils\\hashes.py\", line 75, in check_against_chunks\n",
      "    for chunk in chunks:\n",
      "  File \"c:\\Users\\Kered\\AppData\\Local\\Programs\\Python\\Python38\\lib\\site-packages\\pip\\_internal\\download.py\", line 829, in written_chunks\n",
      "    for chunk in chunks:\n"
     ]
    },
    {
     "name": "stdout",
     "output_type": "stream",
     "text": [
      "Collecting mlflow\n",
      "  Downloading https://files.pythonhosted.org/packages/ea/58/70867ecef084eed5dc89a016824238eb096947c840dc484828e93a510530/mlflow-2.17.2-py3-none-any.whl (26.7MB)\n"
     ]
    },
    {
     "name": "stderr",
     "output_type": "stream",
     "text": [
      "  File \"c:\\Users\\Kered\\AppData\\Local\\Programs\\Python\\Python38\\lib\\site-packages\\pip\\_internal\\utils\\ui.py\", line 156, in iter\n",
      "    for x in it:\n",
      "  File \"c:\\Users\\Kered\\AppData\\Local\\Programs\\Python\\Python38\\lib\\site-packages\\pip\\_internal\\download.py\", line 794, in resp_read\n",
      "    for chunk in resp.raw.stream(\n",
      "  File \"c:\\Users\\Kered\\AppData\\Local\\Programs\\Python\\Python38\\lib\\site-packages\\pip\\_vendor\\urllib3\\response.py\", line 531, in stream\n",
      "    data = self.read(amt=amt, decode_content=decode_content)\n",
      "  File \"c:\\Users\\Kered\\AppData\\Local\\Programs\\Python\\Python38\\lib\\site-packages\\pip\\_vendor\\urllib3\\response.py\", line 496, in read\n",
      "    raise IncompleteRead(self._fp_bytes_read, self.length_remaining)\n",
      "  File \"c:\\Users\\Kered\\AppData\\Local\\Programs\\Python\\Python38\\lib\\contextlib.py\", line 131, in __exit__\n",
      "    self.gen.throw(type, value, traceback)\n",
      "  File \"c:\\Users\\Kered\\AppData\\Local\\Programs\\Python\\Python38\\lib\\site-packages\\pip\\_vendor\\urllib3\\response.py\", line 402, in _error_catcher\n",
      "    raise ReadTimeoutError(self._pool, None, 'Read timed out.')\n",
      "pip._vendor.urllib3.exceptions.ReadTimeoutError: HTTPSConnectionPool(host='files.pythonhosted.org', port=443): Read timed out.\n",
      "WARNING: You are using pip version 19.2.3, however version 25.0.1 is available.\n",
      "You should consider upgrading via the 'python -m pip install --upgrade pip' command.\n"
     ]
    }
   ],
   "source": [
    "pip install mlflow"
   ]
  },
  {
   "cell_type": "code",
   "execution_count": 8,
   "id": "394b2637",
   "metadata": {},
   "outputs": [
    {
     "ename": "ModuleNotFoundError",
     "evalue": "No module named 'mlflow'",
     "output_type": "error",
     "traceback": [
      "\u001b[1;31m---------------------------------------------------------------------------\u001b[0m",
      "\u001b[1;31mModuleNotFoundError\u001b[0m                       Traceback (most recent call last)",
      "\u001b[1;32m~\\AppData\\Local\\Temp/ipykernel_21020/3198490225.py\u001b[0m in \u001b[0;36m<module>\u001b[1;34m\u001b[0m\n\u001b[0;32m      4\u001b[0m \u001b[1;32mimport\u001b[0m \u001b[0mnumpy\u001b[0m \u001b[1;32mas\u001b[0m \u001b[0mnp\u001b[0m\u001b[1;33m\u001b[0m\u001b[1;33m\u001b[0m\u001b[0m\n\u001b[0;32m      5\u001b[0m \u001b[1;32mimport\u001b[0m \u001b[0mmatplotlib\u001b[0m\u001b[1;33m.\u001b[0m\u001b[0mpyplot\u001b[0m \u001b[1;32mas\u001b[0m \u001b[0mplt\u001b[0m\u001b[1;33m\u001b[0m\u001b[1;33m\u001b[0m\u001b[0m\n\u001b[1;32m----> 6\u001b[1;33m \u001b[1;32mimport\u001b[0m \u001b[0mmlflow\u001b[0m\u001b[1;33m\u001b[0m\u001b[1;33m\u001b[0m\u001b[0m\n\u001b[0m\u001b[0;32m      7\u001b[0m \u001b[1;32mimport\u001b[0m \u001b[0mmlflow\u001b[0m\u001b[1;33m.\u001b[0m\u001b[0mtensorflow\u001b[0m\u001b[1;33m\u001b[0m\u001b[1;33m\u001b[0m\u001b[0m\n\u001b[0;32m      8\u001b[0m \u001b[1;33m\u001b[0m\u001b[0m\n",
      "\u001b[1;31mModuleNotFoundError\u001b[0m: No module named 'mlflow'"
     ]
    }
   ],
   "source": [
    "import tensorflow as tf\n",
    "from tensorflow.keras.layers import Dense, Flatten, Reshape, LeakyReLU\n",
    "from tensorflow.keras.models import Sequential\n",
    "import numpy as np\n",
    "import matplotlib.pyplot as plt\n",
    "import mlflow\n",
    "import mlflow.tensorflow\n",
    "\n",
    "# Initialisation MLflow\n",
    "mlflow.set_experiment(\"MNIST_GAN_TF\")\n"
   ]
  },
  {
   "cell_type": "code",
   "execution_count": 4,
   "id": "ba3fdfb0",
   "metadata": {},
   "outputs": [],
   "source": [
    "# Charger les données MNIST\n",
    "(x_train, _), (_, _) = tf.keras.datasets.mnist.load_data()\n",
    "x_train = x_train.astype(\"float32\") / 255.0\n",
    "x_train = x_train.reshape(-1, 28*28)\n",
    "\n",
    "BUFFER_SIZE = 60000\n",
    "BATCH_SIZE = 128\n",
    "LATENT_DIM = 100\n",
    "EPOCHS = 50\n",
    "\n",
    "train_dataset = tf.data.Dataset.from_tensor_slices(x_train).shuffle(BUFFER_SIZE).batch(BATCH_SIZE)\n"
   ]
  },
  {
   "cell_type": "code",
   "execution_count": 6,
   "id": "a5fd3e48",
   "metadata": {},
   "outputs": [],
   "source": [
    "# Générateur\n",
    "def build_generator():\n",
    "    model = Sequential([\n",
    "        Dense(128, input_shape=(LATENT_DIM,), activation=LeakyReLU(0.2)),\n",
    "        Dense(784, activation='sigmoid'),\n",
    "        Reshape((28, 28))\n",
    "    ])\n",
    "    return model\n",
    "\n",
    "# Discriminateur\n",
    "def build_discriminator():\n",
    "    model = Sequential([\n",
    "        Flatten(input_shape=(28, 28)),\n",
    "        Dense(128, activation=LeakyReLU(0.2)),\n",
    "        Dense(1, activation='sigmoid')\n",
    "    ])\n",
    "    return model\n"
   ]
  },
  {
   "cell_type": "code",
   "execution_count": 7,
   "id": "196ef378",
   "metadata": {},
   "outputs": [],
   "source": [
    "cross_entropy = tf.keras.losses.BinaryCrossentropy(from_logits=False)\n",
    "\n",
    "generator = build_generator()\n",
    "discriminator = build_discriminator()\n",
    "\n",
    "generator_optimizer = tf.keras.optimizers.Adam(1e-4)\n",
    "discriminator_optimizer = tf.keras.optimizers.Adam(1e-4)\n"
   ]
  },
  {
   "cell_type": "code",
   "execution_count": 8,
   "id": "bbee3546",
   "metadata": {},
   "outputs": [],
   "source": [
    "@tf.function\n",
    "def train_step(images):\n",
    "    noise = tf.random.normal([BATCH_SIZE, LATENT_DIM])\n",
    "\n",
    "    with tf.GradientTape() as disc_tape, tf.GradientTape() as gen_tape:\n",
    "        generated_images = generator(noise, training=True)\n",
    "\n",
    "        real_output = discriminator(images, training=True)\n",
    "        fake_output = discriminator(generated_images, training=True)\n",
    "\n",
    "        disc_loss = cross_entropy(tf.ones_like(real_output), real_output) + \\\n",
    "                    cross_entropy(tf.zeros_like(fake_output), fake_output)\n",
    "        gen_loss = cross_entropy(tf.ones_like(fake_output), fake_output)\n",
    "\n",
    "    gradients_of_discriminator = disc_tape.gradient(disc_loss, discriminator.trainable_variables)\n",
    "    gradients_of_generator = gen_tape.gradient(gen_loss, generator.trainable_variables)\n",
    "\n",
    "    discriminator_optimizer.apply_gradients(zip(gradients_of_discriminator, discriminator.trainable_variables))\n",
    "    generator_optimizer.apply_gradients(zip(gradients_of_generator, generator.trainable_variables))\n",
    "\n",
    "    return gen_loss, disc_loss\n"
   ]
  },
  {
   "cell_type": "code",
   "execution_count": 9,
   "id": "bb9eaa93",
   "metadata": {},
   "outputs": [],
   "source": [
    "gen_losses = []\n",
    "disc_losses = []\n",
    "\n",
    "def train(dataset, epochs):\n",
    "    with mlflow.start_run():\n",
    "        mlflow.log_param(\"batch_size\", BATCH_SIZE)\n",
    "        mlflow.log_param(\"latent_dim\", LATENT_DIM)\n",
    "        mlflow.log_param(\"epochs\", epochs)\n",
    "\n",
    "        for epoch in range(epochs):\n",
    "            epoch_gen_loss = 0\n",
    "            epoch_disc_loss = 0\n",
    "            steps = 0\n",
    "\n",
    "            for image_batch in dataset:\n",
    "                gen_loss, disc_loss = train_step(image_batch)\n",
    "                epoch_gen_loss += gen_loss\n",
    "                epoch_disc_loss += disc_loss\n",
    "                steps += 1\n",
    "\n",
    "            avg_gen_loss = epoch_gen_loss / steps\n",
    "            avg_disc_loss = epoch_disc_loss / steps\n",
    "\n",
    "            gen_losses.append(avg_gen_loss.numpy())\n",
    "            disc_losses.append(avg_disc_loss.numpy())\n",
    "\n",
    "            mlflow.log_metric(\"generator_loss\", avg_gen_loss.numpy(), step=epoch)\n",
    "            mlflow.log_metric(\"discriminator_loss\", avg_disc_loss.numpy(), step=epoch)\n",
    "\n",
    "            if epoch % 10 == 0:\n",
    "                print(f\"Epoch {epoch}, Generator Loss: {avg_gen_loss:.4f}, Discriminator Loss: {avg_disc_loss:.4f}\")\n"
   ]
  },
  {
   "cell_type": "code",
   "execution_count": 10,
   "id": "b6cb80c7",
   "metadata": {},
   "outputs": [
    {
     "ename": "NameError",
     "evalue": "name 'mlflow' is not defined",
     "output_type": "error",
     "traceback": [
      "\u001b[1;31m---------------------------------------------------------------------------\u001b[0m",
      "\u001b[1;31mNameError\u001b[0m                                 Traceback (most recent call last)",
      "\u001b[1;32m~\\AppData\\Local\\Temp/ipykernel_2124/2228458018.py\u001b[0m in \u001b[0;36m<module>\u001b[1;34m\u001b[0m\n\u001b[1;32m----> 1\u001b[1;33m \u001b[0mtrain\u001b[0m\u001b[1;33m(\u001b[0m\u001b[0mtrain_dataset\u001b[0m\u001b[1;33m,\u001b[0m \u001b[0mEPOCHS\u001b[0m\u001b[1;33m)\u001b[0m\u001b[1;33m\u001b[0m\u001b[1;33m\u001b[0m\u001b[0m\n\u001b[0m",
      "\u001b[1;32m~\\AppData\\Local\\Temp/ipykernel_2124/901384358.py\u001b[0m in \u001b[0;36mtrain\u001b[1;34m(dataset, epochs)\u001b[0m\n\u001b[0;32m      3\u001b[0m \u001b[1;33m\u001b[0m\u001b[0m\n\u001b[0;32m      4\u001b[0m \u001b[1;32mdef\u001b[0m \u001b[0mtrain\u001b[0m\u001b[1;33m(\u001b[0m\u001b[0mdataset\u001b[0m\u001b[1;33m,\u001b[0m \u001b[0mepochs\u001b[0m\u001b[1;33m)\u001b[0m\u001b[1;33m:\u001b[0m\u001b[1;33m\u001b[0m\u001b[1;33m\u001b[0m\u001b[0m\n\u001b[1;32m----> 5\u001b[1;33m     \u001b[1;32mwith\u001b[0m \u001b[0mmlflow\u001b[0m\u001b[1;33m.\u001b[0m\u001b[0mstart_run\u001b[0m\u001b[1;33m(\u001b[0m\u001b[1;33m)\u001b[0m\u001b[1;33m:\u001b[0m\u001b[1;33m\u001b[0m\u001b[1;33m\u001b[0m\u001b[0m\n\u001b[0m\u001b[0;32m      6\u001b[0m         \u001b[0mmlflow\u001b[0m\u001b[1;33m.\u001b[0m\u001b[0mlog_param\u001b[0m\u001b[1;33m(\u001b[0m\u001b[1;34m\"batch_size\"\u001b[0m\u001b[1;33m,\u001b[0m \u001b[0mBATCH_SIZE\u001b[0m\u001b[1;33m)\u001b[0m\u001b[1;33m\u001b[0m\u001b[1;33m\u001b[0m\u001b[0m\n\u001b[0;32m      7\u001b[0m         \u001b[0mmlflow\u001b[0m\u001b[1;33m.\u001b[0m\u001b[0mlog_param\u001b[0m\u001b[1;33m(\u001b[0m\u001b[1;34m\"latent_dim\"\u001b[0m\u001b[1;33m,\u001b[0m \u001b[0mLATENT_DIM\u001b[0m\u001b[1;33m)\u001b[0m\u001b[1;33m\u001b[0m\u001b[1;33m\u001b[0m\u001b[0m\n",
      "\u001b[1;31mNameError\u001b[0m: name 'mlflow' is not defined"
     ]
    }
   ],
   "source": [
    "train(train_dataset, EPOCHS)"
   ]
  },
  {
   "cell_type": "code",
   "execution_count": null,
   "id": "a9b2f8b7",
   "metadata": {},
   "outputs": [],
   "source": [
    "# Courbes de perte\n",
    "plt.figure(figsize=(10, 5))\n",
    "plt.plot(gen_losses, label=\"Generator Loss\", linewidth=2)\n",
    "plt.plot(disc_losses, label=\"Discriminator Loss\", linewidth=2)\n",
    "plt.title(\"Courbes d'apprentissage GAN (MNIST)\")\n",
    "plt.xlabel(\"Époch\")\n",
    "plt.ylabel(\"Perte\")\n",
    "plt.legend()\n",
    "plt.grid(True)\n",
    "plt.tight_layout()\n",
    "plt.show()\n"
   ]
  }
 ],
 "metadata": {
  "kernelspec": {
   "display_name": "Python 3",
   "language": "python",
   "name": "python3"
  },
  "language_info": {
   "codemirror_mode": {
    "name": "ipython",
    "version": 3
   },
   "file_extension": ".py",
   "mimetype": "text/x-python",
   "name": "python",
   "nbconvert_exporter": "python",
   "pygments_lexer": "ipython3",
   "version": "3.8.0"
  }
 },
 "nbformat": 4,
 "nbformat_minor": 5
}
